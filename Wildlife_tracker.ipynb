{
  "nbformat": 4,
  "nbformat_minor": 0,
  "metadata": {
    "colab": {
      "name": "Wildlife_tracker.ipynb",
      "provenance": [],
      "collapsed_sections": []
    },
    "kernelspec": {
      "name": "python3",
      "display_name": "Python 3"
    },
    "language_info": {
      "name": "python"
    }
  },
  "cells": [
    {
      "cell_type": "markdown",
      "source": [
        "### This approach is used to identify, which routes are mostly used for wild animal trafficking in Bangladesh through an application which will be used to monitor the trafficking of wild animals in Bangladesh. Supervised machine learning algorithms are used to determine if a certain route would be taken for an occurrence reported by any user.   "
      ],
      "metadata": {
        "id": "056HaLgvMxKI"
      }
    },
    {
      "cell_type": "code",
      "source": [
        "import numpy as np # linear algebra\n",
        "import pandas as pd # data processing \n",
        "import matplotlib.pyplot as plt\n",
        "import seaborn as sns\n",
        "import plotly.express as px\n",
        "\n",
        "%matplotlib inline"
      ],
      "metadata": {
        "id": "Bu7J4wbGPm83"
      },
      "execution_count": 59,
      "outputs": []
    },
    {
      "cell_type": "code",
      "source": [
        "# Importing Dataset\n",
        "wildlife_tracker = pd.read_csv('/content/wildlife_tracker.csv')"
      ],
      "metadata": {
        "id": "7X8CQuBqe6ua"
      },
      "execution_count": 60,
      "outputs": []
    },
    {
      "cell_type": "markdown",
      "source": [
        "# Data Wrangling"
      ],
      "metadata": {
        "id": "Z82AE_cvfpTY"
      }
    },
    {
      "cell_type": "code",
      "source": [
        "# Visualizing top 5 rows from the Dataset\n",
        "wildlife_tracker.head()"
      ],
      "metadata": {
        "colab": {
          "base_uri": "https://localhost:8080/",
          "height": 206
        },
        "id": "IuSlyqrxfi0W",
        "outputId": "92eb9665-45df-43dd-9698-3c6f1ef35423"
      },
      "execution_count": 61,
      "outputs": [
        {
          "output_type": "execute_result",
          "data": {
            "text/plain": [
              "          animal_type         scientific_name  average_lifespan  \\\n",
              "0                 Dog  Canis Lupus Familiaris                13   \n",
              "1                 Cat             Felis Catus                16   \n",
              "2                Hawk                   Buteo                20   \n",
              "3  White-tailed Eagle    Haliaeetus Albicilla                20   \n",
              "4                 Fox           Vulpes Vulpes                 4   \n",
              "\n",
              "                  request_time          request_udapte_time    location  \\\n",
              "0  2010-10-09T03:59:12.000000Z  2010-10-09T04:13:59.000000Z       Dhaka   \n",
              "1  2010-10-09T04:06:22.000000Z  2010-10-09T04:06:22.000000Z  Chittagong   \n",
              "2  2010-11-04T22:40:13.000000Z  2010-06-21T12:09:28.000000Z      Khulna   \n",
              "3  2010-06-21T12:09:50.000000Z  2010-06-21T12:09:50.000000Z      Bogura   \n",
              "4  2010-06-21T12:10:08.000000Z  2010-06-21T12:10:08.000000Z      Sylhet   \n",
              "\n",
              "                     route  \n",
              "0    Bogra - Sariakandi Rd  \n",
              "1             Uposhohor Rd  \n",
              "2                Gohail Rd  \n",
              "3  Matidali - Dhorompur Rd  \n",
              "4      Chondon - Baisha Rd  "
            ],
            "text/html": [
              "\n",
              "  <div id=\"df-42b8de4a-472b-4148-986a-cdcd5250f9ad\">\n",
              "    <div class=\"colab-df-container\">\n",
              "      <div>\n",
              "<style scoped>\n",
              "    .dataframe tbody tr th:only-of-type {\n",
              "        vertical-align: middle;\n",
              "    }\n",
              "\n",
              "    .dataframe tbody tr th {\n",
              "        vertical-align: top;\n",
              "    }\n",
              "\n",
              "    .dataframe thead th {\n",
              "        text-align: right;\n",
              "    }\n",
              "</style>\n",
              "<table border=\"1\" class=\"dataframe\">\n",
              "  <thead>\n",
              "    <tr style=\"text-align: right;\">\n",
              "      <th></th>\n",
              "      <th>animal_type</th>\n",
              "      <th>scientific_name</th>\n",
              "      <th>average_lifespan</th>\n",
              "      <th>request_time</th>\n",
              "      <th>request_udapte_time</th>\n",
              "      <th>location</th>\n",
              "      <th>route</th>\n",
              "    </tr>\n",
              "  </thead>\n",
              "  <tbody>\n",
              "    <tr>\n",
              "      <th>0</th>\n",
              "      <td>Dog</td>\n",
              "      <td>Canis Lupus Familiaris</td>\n",
              "      <td>13</td>\n",
              "      <td>2010-10-09T03:59:12.000000Z</td>\n",
              "      <td>2010-10-09T04:13:59.000000Z</td>\n",
              "      <td>Dhaka</td>\n",
              "      <td>Bogra - Sariakandi Rd</td>\n",
              "    </tr>\n",
              "    <tr>\n",
              "      <th>1</th>\n",
              "      <td>Cat</td>\n",
              "      <td>Felis Catus</td>\n",
              "      <td>16</td>\n",
              "      <td>2010-10-09T04:06:22.000000Z</td>\n",
              "      <td>2010-10-09T04:06:22.000000Z</td>\n",
              "      <td>Chittagong</td>\n",
              "      <td>Uposhohor Rd</td>\n",
              "    </tr>\n",
              "    <tr>\n",
              "      <th>2</th>\n",
              "      <td>Hawk</td>\n",
              "      <td>Buteo</td>\n",
              "      <td>20</td>\n",
              "      <td>2010-11-04T22:40:13.000000Z</td>\n",
              "      <td>2010-06-21T12:09:28.000000Z</td>\n",
              "      <td>Khulna</td>\n",
              "      <td>Gohail Rd</td>\n",
              "    </tr>\n",
              "    <tr>\n",
              "      <th>3</th>\n",
              "      <td>White-tailed Eagle</td>\n",
              "      <td>Haliaeetus Albicilla</td>\n",
              "      <td>20</td>\n",
              "      <td>2010-06-21T12:09:50.000000Z</td>\n",
              "      <td>2010-06-21T12:09:50.000000Z</td>\n",
              "      <td>Bogura</td>\n",
              "      <td>Matidali - Dhorompur Rd</td>\n",
              "    </tr>\n",
              "    <tr>\n",
              "      <th>4</th>\n",
              "      <td>Fox</td>\n",
              "      <td>Vulpes Vulpes</td>\n",
              "      <td>4</td>\n",
              "      <td>2010-06-21T12:10:08.000000Z</td>\n",
              "      <td>2010-06-21T12:10:08.000000Z</td>\n",
              "      <td>Sylhet</td>\n",
              "      <td>Chondon - Baisha Rd</td>\n",
              "    </tr>\n",
              "  </tbody>\n",
              "</table>\n",
              "</div>\n",
              "      <button class=\"colab-df-convert\" onclick=\"convertToInteractive('df-42b8de4a-472b-4148-986a-cdcd5250f9ad')\"\n",
              "              title=\"Convert this dataframe to an interactive table.\"\n",
              "              style=\"display:none;\">\n",
              "        \n",
              "  <svg xmlns=\"http://www.w3.org/2000/svg\" height=\"24px\"viewBox=\"0 0 24 24\"\n",
              "       width=\"24px\">\n",
              "    <path d=\"M0 0h24v24H0V0z\" fill=\"none\"/>\n",
              "    <path d=\"M18.56 5.44l.94 2.06.94-2.06 2.06-.94-2.06-.94-.94-2.06-.94 2.06-2.06.94zm-11 1L8.5 8.5l.94-2.06 2.06-.94-2.06-.94L8.5 2.5l-.94 2.06-2.06.94zm10 10l.94 2.06.94-2.06 2.06-.94-2.06-.94-.94-2.06-.94 2.06-2.06.94z\"/><path d=\"M17.41 7.96l-1.37-1.37c-.4-.4-.92-.59-1.43-.59-.52 0-1.04.2-1.43.59L10.3 9.45l-7.72 7.72c-.78.78-.78 2.05 0 2.83L4 21.41c.39.39.9.59 1.41.59.51 0 1.02-.2 1.41-.59l7.78-7.78 2.81-2.81c.8-.78.8-2.07 0-2.86zM5.41 20L4 18.59l7.72-7.72 1.47 1.35L5.41 20z\"/>\n",
              "  </svg>\n",
              "      </button>\n",
              "      \n",
              "  <style>\n",
              "    .colab-df-container {\n",
              "      display:flex;\n",
              "      flex-wrap:wrap;\n",
              "      gap: 12px;\n",
              "    }\n",
              "\n",
              "    .colab-df-convert {\n",
              "      background-color: #E8F0FE;\n",
              "      border: none;\n",
              "      border-radius: 50%;\n",
              "      cursor: pointer;\n",
              "      display: none;\n",
              "      fill: #1967D2;\n",
              "      height: 32px;\n",
              "      padding: 0 0 0 0;\n",
              "      width: 32px;\n",
              "    }\n",
              "\n",
              "    .colab-df-convert:hover {\n",
              "      background-color: #E2EBFA;\n",
              "      box-shadow: 0px 1px 2px rgba(60, 64, 67, 0.3), 0px 1px 3px 1px rgba(60, 64, 67, 0.15);\n",
              "      fill: #174EA6;\n",
              "    }\n",
              "\n",
              "    [theme=dark] .colab-df-convert {\n",
              "      background-color: #3B4455;\n",
              "      fill: #D2E3FC;\n",
              "    }\n",
              "\n",
              "    [theme=dark] .colab-df-convert:hover {\n",
              "      background-color: #434B5C;\n",
              "      box-shadow: 0px 1px 3px 1px rgba(0, 0, 0, 0.15);\n",
              "      filter: drop-shadow(0px 1px 2px rgba(0, 0, 0, 0.3));\n",
              "      fill: #FFFFFF;\n",
              "    }\n",
              "  </style>\n",
              "\n",
              "      <script>\n",
              "        const buttonEl =\n",
              "          document.querySelector('#df-42b8de4a-472b-4148-986a-cdcd5250f9ad button.colab-df-convert');\n",
              "        buttonEl.style.display =\n",
              "          google.colab.kernel.accessAllowed ? 'block' : 'none';\n",
              "\n",
              "        async function convertToInteractive(key) {\n",
              "          const element = document.querySelector('#df-42b8de4a-472b-4148-986a-cdcd5250f9ad');\n",
              "          const dataTable =\n",
              "            await google.colab.kernel.invokeFunction('convertToInteractive',\n",
              "                                                     [key], {});\n",
              "          if (!dataTable) return;\n",
              "\n",
              "          const docLinkHtml = 'Like what you see? Visit the ' +\n",
              "            '<a target=\"_blank\" href=https://colab.research.google.com/notebooks/data_table.ipynb>data table notebook</a>'\n",
              "            + ' to learn more about interactive tables.';\n",
              "          element.innerHTML = '';\n",
              "          dataTable['output_type'] = 'display_data';\n",
              "          await google.colab.output.renderOutput(dataTable, element);\n",
              "          const docLink = document.createElement('div');\n",
              "          docLink.innerHTML = docLinkHtml;\n",
              "          element.appendChild(docLink);\n",
              "        }\n",
              "      </script>\n",
              "    </div>\n",
              "  </div>\n",
              "  "
            ]
          },
          "metadata": {},
          "execution_count": 61
        }
      ]
    },
    {
      "cell_type": "code",
      "source": [
        "# Size of the dataset\n",
        "print(f\"The Dataset to be classified has {wildlife_tracker.shape[0]} rows and {wildlife_tracker.shape[1]} columns.\")"
      ],
      "metadata": {
        "colab": {
          "base_uri": "https://localhost:8080/"
        },
        "id": "1wJSGhIdfx9P",
        "outputId": "f320cf39-432d-4db7-c011-a5e70f59f33f"
      },
      "execution_count": 62,
      "outputs": [
        {
          "output_type": "stream",
          "name": "stdout",
          "text": [
            "The Dataset to be classified has 280 rows and 7 columns.\n"
          ]
        }
      ]
    },
    {
      "cell_type": "code",
      "source": [
        "# Null Values\n",
        "wildlife_tracker.isnull().sum()"
      ],
      "metadata": {
        "colab": {
          "base_uri": "https://localhost:8080/"
        },
        "id": "R1b0tmr-gVH6",
        "outputId": "89b99501-ff37-40b0-ffb2-9b0b41f7999a"
      },
      "execution_count": 63,
      "outputs": [
        {
          "output_type": "execute_result",
          "data": {
            "text/plain": [
              "animal_type            0\n",
              "scientific_name        0\n",
              "average_lifespan       0\n",
              "request_time           0\n",
              "request_udapte_time    0\n",
              "location               0\n",
              "route                  0\n",
              "dtype: int64"
            ]
          },
          "metadata": {},
          "execution_count": 63
        }
      ]
    },
    {
      "cell_type": "markdown",
      "source": [
        "The dataset has no null values. There are several approaches for handling null values. We will use the null value handling approaches later if the actual dataset contains any null values."
      ],
      "metadata": {
        "id": "kalIE3-ZFCES"
      }
    },
    {
      "cell_type": "code",
      "source": [
        "# Dataset Info\n",
        "wildlife_tracker.info()"
      ],
      "metadata": {
        "colab": {
          "base_uri": "https://localhost:8080/"
        },
        "id": "IAZ4Wh5ahBhG",
        "outputId": "abda4458-ae56-48da-b111-2e857af1213b"
      },
      "execution_count": 64,
      "outputs": [
        {
          "output_type": "stream",
          "name": "stdout",
          "text": [
            "<class 'pandas.core.frame.DataFrame'>\n",
            "RangeIndex: 280 entries, 0 to 279\n",
            "Data columns (total 7 columns):\n",
            " #   Column               Non-Null Count  Dtype \n",
            "---  ------               --------------  ----- \n",
            " 0   animal_type          280 non-null    object\n",
            " 1   scientific_name      280 non-null    object\n",
            " 2   average_lifespan     280 non-null    int64 \n",
            " 3   request_time         280 non-null    object\n",
            " 4   request_udapte_time  280 non-null    object\n",
            " 5   location             280 non-null    object\n",
            " 6   route                280 non-null    object\n",
            "dtypes: int64(1), object(6)\n",
            "memory usage: 15.4+ KB\n"
          ]
        }
      ]
    },
    {
      "cell_type": "code",
      "source": [
        "# Type Casting\n",
        "\n",
        "wildlife_tracker['animal_type']=wildlife_tracker['animal_type'].astype('category')\n",
        "wildlife_tracker['scientific_name']=wildlife_tracker['scientific_name'].astype('category')\n",
        "wildlife_tracker['location']=wildlife_tracker['location'].astype('category')\n",
        "wildlife_tracker['route']=wildlife_tracker['route'].astype('category')"
      ],
      "metadata": {
        "id": "XL1MkbLHQrZV"
      },
      "execution_count": 65,
      "outputs": []
    },
    {
      "cell_type": "code",
      "source": [
        "# Updated Dataset Info\n",
        "wildlife_tracker.info()"
      ],
      "metadata": {
        "colab": {
          "base_uri": "https://localhost:8080/"
        },
        "id": "vATcHRN7RbTW",
        "outputId": "0cea3aa7-8104-4720-d366-f97825dc01f6"
      },
      "execution_count": 66,
      "outputs": [
        {
          "output_type": "stream",
          "name": "stdout",
          "text": [
            "<class 'pandas.core.frame.DataFrame'>\n",
            "RangeIndex: 280 entries, 0 to 279\n",
            "Data columns (total 7 columns):\n",
            " #   Column               Non-Null Count  Dtype   \n",
            "---  ------               --------------  -----   \n",
            " 0   animal_type          280 non-null    category\n",
            " 1   scientific_name      280 non-null    category\n",
            " 2   average_lifespan     280 non-null    int64   \n",
            " 3   request_time         280 non-null    object  \n",
            " 4   request_udapte_time  280 non-null    object  \n",
            " 5   location             280 non-null    category\n",
            " 6   route                280 non-null    category\n",
            "dtypes: category(4), int64(1), object(2)\n",
            "memory usage: 8.9+ KB\n"
          ]
        }
      ]
    },
    {
      "cell_type": "code",
      "source": [
        "# Identify duplication\n",
        "print(f\"Dataset Classify has {wildlife_tracker.duplicated().sum()} duplicate values.\")"
      ],
      "metadata": {
        "colab": {
          "base_uri": "https://localhost:8080/"
        },
        "id": "jspg7s_tliPK",
        "outputId": "832e7612-e1a5-45c5-e297-ea775facb598"
      },
      "execution_count": 67,
      "outputs": [
        {
          "output_type": "stream",
          "name": "stdout",
          "text": [
            "Dataset Classify has 78 duplicate values.\n"
          ]
        }
      ]
    },
    {
      "cell_type": "markdown",
      "source": [
        "Since we utilized synthetic data for the classification, I won't deal with duplicate values here, but I have commented on how to deal with them. It will be required when we use an actual dataset."
      ],
      "metadata": {
        "id": "KSooqyOGC4tc"
      }
    },
    {
      "cell_type": "code",
      "source": [
        "# Clearing duplicate values\n",
        "# wildlife_tracker.drop_duplicates(keep = 'first',inplace = True) # keeping the first row "
      ],
      "metadata": {
        "id": "kbNnGcMpD-Uo"
      },
      "execution_count": 68,
      "outputs": []
    },
    {
      "cell_type": "code",
      "source": [
        "# Updated dataset size\n",
        "# wildlife_tracker.shape"
      ],
      "metadata": {
        "id": "9nBaKl5tEE8F"
      },
      "execution_count": 69,
      "outputs": []
    },
    {
      "cell_type": "markdown",
      "source": [
        "# Exploratory Data Analysis (EDA)"
      ],
      "metadata": {
        "id": "Ut1Ke2kim4Va"
      }
    },
    {
      "cell_type": "markdown",
      "source": [
        "## Univariate Analysis\n",
        "### Categorical"
      ],
      "metadata": {
        "id": "R_t_l1Bom463"
      }
    },
    {
      "cell_type": "code",
      "source": [
        "# Animal types\n",
        "\n",
        "plt.figure(figsize=(15,8))\n",
        "sns.countplot(wildlife_tracker['animal_type'])"
      ],
      "metadata": {
        "colab": {
          "base_uri": "https://localhost:8080/",
          "height": 570
        },
        "id": "Q9p2yuIInXdy",
        "outputId": "b0206de7-6849-4ab1-b664-79548ab4ac14"
      },
      "execution_count": 70,
      "outputs": [
        {
          "output_type": "stream",
          "name": "stderr",
          "text": [
            "/usr/local/lib/python3.7/dist-packages/seaborn/_decorators.py:43: FutureWarning: Pass the following variable as a keyword arg: x. From version 0.12, the only valid positional argument will be `data`, and passing other arguments without an explicit keyword will result in an error or misinterpretation.\n",
            "  FutureWarning\n"
          ]
        },
        {
          "output_type": "execute_result",
          "data": {
            "text/plain": [
              "<matplotlib.axes._subplots.AxesSubplot at 0x7fbe45764810>"
            ]
          },
          "metadata": {},
          "execution_count": 70
        },
        {
          "output_type": "display_data",
          "data": {
            "text/plain": [
              "<Figure size 1080x576 with 1 Axes>"
            ],
            "image/png": "[encoded data removed]"
          },
          "metadata": {
            "needs_background": "light"
          }
        }
      ]
    },
    {
      "cell_type": "markdown",
      "source": [
        "Seven different species of animals that are victim of wild animal trafficking in Bangladesh are represented in this dataset. Nearly forty rows of data are present for each wild animal in the collection."
      ],
      "metadata": {
        "id": "9seyxmO4ns4x"
      }
    },
    {
      "cell_type": "code",
      "source": [
        "# Locations\n",
        "\n",
        "plt.figure(figsize=(15,8))\n",
        "sns.countplot(wildlife_tracker['location'])"
      ],
      "metadata": {
        "colab": {
          "base_uri": "https://localhost:8080/",
          "height": 569
        },
        "id": "2z8Xl6W_nrLz",
        "outputId": "7bdd9a6c-5b8a-49f5-b12b-782f069c8394"
      },
      "execution_count": 71,
      "outputs": [
        {
          "output_type": "stream",
          "name": "stderr",
          "text": [
            "/usr/local/lib/python3.7/dist-packages/seaborn/_decorators.py:43: FutureWarning: Pass the following variable as a keyword arg: x. From version 0.12, the only valid positional argument will be `data`, and passing other arguments without an explicit keyword will result in an error or misinterpretation.\n",
            "  FutureWarning\n"
          ]
        },
        {
          "output_type": "execute_result",
          "data": {
            "text/plain": [
              "<matplotlib.axes._subplots.AxesSubplot at 0x7fbe45764850>"
            ]
          },
          "metadata": {},
          "execution_count": 71
        },
        {
          "output_type": "display_data",
          "data": {
            "text/plain": [
              "<Figure size 1080x576 with 1 Axes>"
            ],
            "image/png": "[encoded data removed]"
          },
          "metadata": {
            "needs_background": "light"
          }
        }
      ]
    },
    {
      "cell_type": "markdown",
      "source": [
        "This dataset includes five places where there have been reports of wild animal trafficking. We can observe that Dhaka and Khulna have the most reported instances. "
      ],
      "metadata": {
        "id": "fxrGByQYoX7B"
      }
    },
    {
      "cell_type": "code",
      "source": [
        "# Routes\n",
        "\n",
        "plt.figure(figsize=(15,8))\n",
        "sns.countplot(wildlife_tracker['route'])"
      ],
      "metadata": {
        "colab": {
          "base_uri": "https://localhost:8080/",
          "height": 569
        },
        "id": "euokspd7pGPA",
        "outputId": "e5eb9926-909b-412a-c23c-15adfccec28b"
      },
      "execution_count": 72,
      "outputs": [
        {
          "output_type": "stream",
          "name": "stderr",
          "text": [
            "/usr/local/lib/python3.7/dist-packages/seaborn/_decorators.py:43: FutureWarning: Pass the following variable as a keyword arg: x. From version 0.12, the only valid positional argument will be `data`, and passing other arguments without an explicit keyword will result in an error or misinterpretation.\n",
            "  FutureWarning\n"
          ]
        },
        {
          "output_type": "execute_result",
          "data": {
            "text/plain": [
              "<matplotlib.axes._subplots.AxesSubplot at 0x7fbe4546fa10>"
            ]
          },
          "metadata": {},
          "execution_count": 72
        },
        {
          "output_type": "display_data",
          "data": {
            "text/plain": [
              "<Figure size 1080x576 with 1 Axes>"
            ],
            "image/png": "[encoded data removed]"
          },
          "metadata": {
            "needs_background": "light"
          }
        }
      ]
    },
    {
      "cell_type": "markdown",
      "source": [
        "This dataset includes five routes that are mostly utilized in Bangladesh for the trafficking of wild animals. We can observe that the three routes Bogra-Sariakandi Road, Matidali-Dhorompur Road and Condon-Baisha Road are most frequently used for trafficking wild animals in Bangladesh."
      ],
      "metadata": {
        "id": "jg9FcpsgpQrT"
      }
    },
    {
      "cell_type": "markdown",
      "source": [
        "## Multivariate Analysis\n",
        "### Categorical"
      ],
      "metadata": {
        "id": "UBUSFW5ksd2g"
      }
    },
    {
      "cell_type": "code",
      "source": [
        "# Most used routes hue on each animal type\n",
        " \n",
        "plt.figure(figsize=(15,8))\n",
        "sns.countplot(wildlife_tracker['route'],hue=wildlife_tracker['animal_type'])"
      ],
      "metadata": {
        "colab": {
          "base_uri": "https://localhost:8080/",
          "height": 569
        },
        "id": "wfCAyw_gs2zm",
        "outputId": "db7d0ee6-32aa-43f5-bf23-46ed4b869e04"
      },
      "execution_count": 73,
      "outputs": [
        {
          "output_type": "stream",
          "name": "stderr",
          "text": [
            "/usr/local/lib/python3.7/dist-packages/seaborn/_decorators.py:43: FutureWarning: Pass the following variable as a keyword arg: x. From version 0.12, the only valid positional argument will be `data`, and passing other arguments without an explicit keyword will result in an error or misinterpretation.\n",
            "  FutureWarning\n"
          ]
        },
        {
          "output_type": "execute_result",
          "data": {
            "text/plain": [
              "<matplotlib.axes._subplots.AxesSubplot at 0x7fbe45585850>"
            ]
          },
          "metadata": {},
          "execution_count": 73
        },
        {
          "output_type": "display_data",
          "data": {
            "text/plain": [
              "<Figure size 1080x576 with 1 Axes>"
            ],
            "image/png": "[encoded data removed]"
          },
          "metadata": {
            "needs_background": "light"
          }
        }
      ]
    },
    {
      "cell_type": "markdown",
      "source": [
        "Here, we may determine which routes in Bangladesh are most commonly utilized for a specific wild species trafficking. \n",
        "\n",
        "Below, I've provided a list of a few routes utilized regularly for the trafficking of a certain wild species.\n",
        "\n",
        "Dog -> Gohail Road\n",
        "\n",
        "Cat -> Matidali - Dhorompur Road\n",
        "\n",
        "Hawk -> Chondon - Baisha Rd\n",
        "\n",
        "White-tailed Eagle -> Bogra - Sariakandi Rd\n",
        "\n",
        "Fox -> Matidali - Dhorompur Road\n",
        "\n",
        "Lizard -> Chondon - Baisha Rd\n",
        "\n",
        "Tiger -> Bogra - Sariakandi Rd"
      ],
      "metadata": {
        "id": "9J9OEbhKuc9p"
      }
    },
    {
      "cell_type": "code",
      "source": [
        "# Most used routes hue on the locations from where a specific incident is reported\n",
        "\n",
        "plt.figure(figsize=(15,8))\n",
        "sns.countplot(wildlife_tracker['route'],hue=wildlife_tracker['location'])"
      ],
      "metadata": {
        "colab": {
          "base_uri": "https://localhost:8080/",
          "height": 569
        },
        "id": "LT1cI4NawtNb",
        "outputId": "9773e6c4-871f-4704-d480-b744aeda6c83"
      },
      "execution_count": 74,
      "outputs": [
        {
          "output_type": "stream",
          "name": "stderr",
          "text": [
            "/usr/local/lib/python3.7/dist-packages/seaborn/_decorators.py:43: FutureWarning: Pass the following variable as a keyword arg: x. From version 0.12, the only valid positional argument will be `data`, and passing other arguments without an explicit keyword will result in an error or misinterpretation.\n",
            "  FutureWarning\n"
          ]
        },
        {
          "output_type": "execute_result",
          "data": {
            "text/plain": [
              "<matplotlib.axes._subplots.AxesSubplot at 0x7fbe4551d990>"
            ]
          },
          "metadata": {},
          "execution_count": 74
        },
        {
          "output_type": "display_data",
          "data": {
            "text/plain": [
              "<Figure size 1080x576 with 1 Axes>"
            ],
            "image/png": "[encoded data removed]"
          },
          "metadata": {
            "needs_background": "light"
          }
        }
      ]
    },
    {
      "cell_type": "markdown",
      "source": [
        "Based on the reporting locations, we may determine which routes in Bangladesh are most frequently used for trafficking wild animals.\n",
        "\n",
        "Here, the two routes Matidali-Dhorompur & Chondon-Baisha seem to be used most frequently in the reports of trafficking incidents from Dhaka. Similar to this, the three routes seem to be recorded frequently for trafficking incidents in Chittagong are Bogra-Sariakandi, Matidali-Dhorompur, and Chondon-Baisha. Comparably, the two routes Bogra-Sariakandi and Chondon-Baisha are most likely used in the trafficking incidents reported from Khulna. Similarly, the two routes Bogra-Sariakandi & Matidali-Dhorompur are most likely used in the trafficking incidents recorded from Bogura. Likewise, the two routes Matidali-Dhorompur & Chondon-Baisha that are most likely being used in the trafficking incidents reported from Sylhet.\n",
        "\n",
        "\n",
        "\n",
        "\n",
        "\n",
        "\n"
      ],
      "metadata": {
        "id": "1yxWRDTOxmqj"
      }
    },
    {
      "cell_type": "markdown",
      "source": [
        "## Converting Categorical Features "
      ],
      "metadata": {
        "id": "rLOD4NDx4Snv"
      }
    },
    {
      "cell_type": "code",
      "source": [
        "# Converting the the categorical columns into numeric \n",
        "\n",
        "Numeric_Data = pd.get_dummies(data = wildlife_tracker, columns = ['animal_type', 'scientific_name', 'location', 'route'],drop_first=True)"
      ],
      "metadata": {
        "id": "7PNHmQ3W4P6x"
      },
      "execution_count": 75,
      "outputs": []
    },
    {
      "cell_type": "code",
      "source": [
        "# Dataset that contains only numeric columns\n",
        "\n",
        "Numeric_Data.head()"
      ],
      "metadata": {
        "colab": {
          "base_uri": "https://localhost:8080/",
          "height": 403
        },
        "id": "NtLrDgSn47Hm",
        "outputId": "df7f548a-0881-4c0d-d9df-e7660a567518"
      },
      "execution_count": 76,
      "outputs": [
        {
          "output_type": "execute_result",
          "data": {
            "text/plain": [
              "   average_lifespan                 request_time          request_udapte_time  \\\n",
              "0                13  2010-10-09T03:59:12.000000Z  2010-10-09T04:13:59.000000Z   \n",
              "1                16  2010-10-09T04:06:22.000000Z  2010-10-09T04:06:22.000000Z   \n",
              "2                20  2010-11-04T22:40:13.000000Z  2010-06-21T12:09:28.000000Z   \n",
              "3                20  2010-06-21T12:09:50.000000Z  2010-06-21T12:09:50.000000Z   \n",
              "4                 4  2010-06-21T12:10:08.000000Z  2010-06-21T12:10:08.000000Z   \n",
              "\n",
              "   animal_type_Dog  animal_type_Fox  animal_type_Hawk  animal_type_Lizard  \\\n",
              "0                1                0                 0                   0   \n",
              "1                0                0                 0                   0   \n",
              "2                0                0                 1                   0   \n",
              "3                0                0                 0                   0   \n",
              "4                0                1                 0                   0   \n",
              "\n",
              "   animal_type_Tiger  animal_type_White-tailed Eagle  \\\n",
              "0                  0                               0   \n",
              "1                  0                               0   \n",
              "2                  0                               0   \n",
              "3                  0                               1   \n",
              "4                  0                               0   \n",
              "\n",
              "   scientific_name_Canis Lupus Familiaris  ...  \\\n",
              "0                                       1  ...   \n",
              "1                                       0  ...   \n",
              "2                                       0  ...   \n",
              "3                                       0  ...   \n",
              "4                                       0  ...   \n",
              "\n",
              "   scientific_name_Panthera Tigris  scientific_name_Vulpes Vulpes  \\\n",
              "0                                0                              0   \n",
              "1                                0                              0   \n",
              "2                                0                              0   \n",
              "3                                0                              0   \n",
              "4                                0                              1   \n",
              "\n",
              "   location_Chittagong  location_Dhaka  location_Khulna  location_Sylhet  \\\n",
              "0                    0               1                0                0   \n",
              "1                    1               0                0                0   \n",
              "2                    0               0                1                0   \n",
              "3                    0               0                0                0   \n",
              "4                    0               0                0                1   \n",
              "\n",
              "   route_Chondon - Baisha Rd  route_Gohail Rd  route_Matidali - Dhorompur Rd  \\\n",
              "0                          0                0                              0   \n",
              "1                          0                0                              0   \n",
              "2                          0                1                              0   \n",
              "3                          0                0                              1   \n",
              "4                          1                0                              0   \n",
              "\n",
              "   route_Uposhohor Rd  \n",
              "0                   0  \n",
              "1                   1  \n",
              "2                   0  \n",
              "3                   0  \n",
              "4                   0  \n",
              "\n",
              "[5 rows x 23 columns]"
            ],
            "text/html": [
              "\n",
              "  <div id=\"df-cad65eed-379e-4896-8984-21db7fc2e9a6\">\n",
              "    <div class=\"colab-df-container\">\n",
              "      <div>\n",
              "<style scoped>\n",
              "    .dataframe tbody tr th:only-of-type {\n",
              "        vertical-align: middle;\n",
              "    }\n",
              "\n",
              "    .dataframe tbody tr th {\n",
              "        vertical-align: top;\n",
              "    }\n",
              "\n",
              "    .dataframe thead th {\n",
              "        text-align: right;\n",
              "    }\n",
              "</style>\n",
              "<table border=\"1\" class=\"dataframe\">\n",
              "  <thead>\n",
              "    <tr style=\"text-align: right;\">\n",
              "      <th></th>\n",
              "      <th>average_lifespan</th>\n",
              "      <th>request_time</th>\n",
              "      <th>request_udapte_time</th>\n",
              "      <th>animal_type_Dog</th>\n",
              "      <th>animal_type_Fox</th>\n",
              "      <th>animal_type_Hawk</th>\n",
              "      <th>animal_type_Lizard</th>\n",
              "      <th>animal_type_Tiger</th>\n",
              "      <th>animal_type_White-tailed Eagle</th>\n",
              "      <th>scientific_name_Canis Lupus Familiaris</th>\n",
              "      <th>...</th>\n",
              "      <th>scientific_name_Panthera Tigris</th>\n",
              "      <th>scientific_name_Vulpes Vulpes</th>\n",
              "      <th>location_Chittagong</th>\n",
              "      <th>location_Dhaka</th>\n",
              "      <th>location_Khulna</th>\n",
              "      <th>location_Sylhet</th>\n",
              "      <th>route_Chondon - Baisha Rd</th>\n",
              "      <th>route_Gohail Rd</th>\n",
              "      <th>route_Matidali - Dhorompur Rd</th>\n",
              "      <th>route_Uposhohor Rd</th>\n",
              "    </tr>\n",
              "  </thead>\n",
              "  <tbody>\n",
              "    <tr>\n",
              "      <th>0</th>\n",
              "      <td>13</td>\n",
              "      <td>2010-10-09T03:59:12.000000Z</td>\n",
              "      <td>2010-10-09T04:13:59.000000Z</td>\n",
              "      <td>1</td>\n",
              "      <td>0</td>\n",
              "      <td>0</td>\n",
              "      <td>0</td>\n",
              "      <td>0</td>\n",
              "      <td>0</td>\n",
              "      <td>1</td>\n",
              "      <td>...</td>\n",
              "      <td>0</td>\n",
              "      <td>0</td>\n",
              "      <td>0</td>\n",
              "      <td>1</td>\n",
              "      <td>0</td>\n",
              "      <td>0</td>\n",
              "      <td>0</td>\n",
              "      <td>0</td>\n",
              "      <td>0</td>\n",
              "      <td>0</td>\n",
              "    </tr>\n",
              "    <tr>\n",
              "      <th>1</th>\n",
              "      <td>16</td>\n",
              "      <td>2010-10-09T04:06:22.000000Z</td>\n",
              "      <td>2010-10-09T04:06:22.000000Z</td>\n",
              "      <td>0</td>\n",
              "      <td>0</td>\n",
              "      <td>0</td>\n",
              "      <td>0</td>\n",
              "      <td>0</td>\n",
              "      <td>0</td>\n",
              "      <td>0</td>\n",
              "      <td>...</td>\n",
              "      <td>0</td>\n",
              "      <td>0</td>\n",
              "      <td>1</td>\n",
              "      <td>0</td>\n",
              "      <td>0</td>\n",
              "      <td>0</td>\n",
              "      <td>0</td>\n",
              "      <td>0</td>\n",
              "      <td>0</td>\n",
              "      <td>1</td>\n",
              "    </tr>\n",
              "    <tr>\n",
              "      <th>2</th>\n",
              "      <td>20</td>\n",
              "      <td>2010-11-04T22:40:13.000000Z</td>\n",
              "      <td>2010-06-21T12:09:28.000000Z</td>\n",
              "      <td>0</td>\n",
              "      <td>0</td>\n",
              "      <td>1</td>\n",
              "      <td>0</td>\n",
              "      <td>0</td>\n",
              "      <td>0</td>\n",
              "      <td>0</td>\n",
              "      <td>...</td>\n",
              "      <td>0</td>\n",
              "      <td>0</td>\n",
              "      <td>0</td>\n",
              "      <td>0</td>\n",
              "      <td>1</td>\n",
              "      <td>0</td>\n",
              "      <td>0</td>\n",
              "      <td>1</td>\n",
              "      <td>0</td>\n",
              "      <td>0</td>\n",
              "    </tr>\n",
              "    <tr>\n",
              "      <th>3</th>\n",
              "      <td>20</td>\n",
              "      <td>2010-06-21T12:09:50.000000Z</td>\n",
              "      <td>2010-06-21T12:09:50.000000Z</td>\n",
              "      <td>0</td>\n",
              "      <td>0</td>\n",
              "      <td>0</td>\n",
              "      <td>0</td>\n",
              "      <td>0</td>\n",
              "      <td>1</td>\n",
              "      <td>0</td>\n",
              "      <td>...</td>\n",
              "      <td>0</td>\n",
              "      <td>0</td>\n",
              "      <td>0</td>\n",
              "      <td>0</td>\n",
              "      <td>0</td>\n",
              "      <td>0</td>\n",
              "      <td>0</td>\n",
              "      <td>0</td>\n",
              "      <td>1</td>\n",
              "      <td>0</td>\n",
              "    </tr>\n",
              "    <tr>\n",
              "      <th>4</th>\n",
              "      <td>4</td>\n",
              "      <td>2010-06-21T12:10:08.000000Z</td>\n",
              "      <td>2010-06-21T12:10:08.000000Z</td>\n",
              "      <td>0</td>\n",
              "      <td>1</td>\n",
              "      <td>0</td>\n",
              "      <td>0</td>\n",
              "      <td>0</td>\n",
              "      <td>0</td>\n",
              "      <td>0</td>\n",
              "      <td>...</td>\n",
              "      <td>0</td>\n",
              "      <td>1</td>\n",
              "      <td>0</td>\n",
              "      <td>0</td>\n",
              "      <td>0</td>\n",
              "      <td>1</td>\n",
              "      <td>1</td>\n",
              "      <td>0</td>\n",
              "      <td>0</td>\n",
              "      <td>0</td>\n",
              "    </tr>\n",
              "  </tbody>\n",
              "</table>\n",
              "<p>5 rows × 23 columns</p>\n",
              "</div>\n",
              "      <button class=\"colab-df-convert\" onclick=\"convertToInteractive('df-cad65eed-379e-4896-8984-21db7fc2e9a6')\"\n",
              "              title=\"Convert this dataframe to an interactive table.\"\n",
              "              style=\"display:none;\">\n",
              "        \n",
              "  <svg xmlns=\"http://www.w3.org/2000/svg\" height=\"24px\"viewBox=\"0 0 24 24\"\n",
              "       width=\"24px\">\n",
              "    <path d=\"M0 0h24v24H0V0z\" fill=\"none\"/>\n",
              "    <path d=\"M18.56 5.44l.94 2.06.94-2.06 2.06-.94-2.06-.94-.94-2.06-.94 2.06-2.06.94zm-11 1L8.5 8.5l.94-2.06 2.06-.94-2.06-.94L8.5 2.5l-.94 2.06-2.06.94zm10 10l.94 2.06.94-2.06 2.06-.94-2.06-.94-.94-2.06-.94 2.06-2.06.94z\"/><path d=\"M17.41 7.96l-1.37-1.37c-.4-.4-.92-.59-1.43-.59-.52 0-1.04.2-1.43.59L10.3 9.45l-7.72 7.72c-.78.78-.78 2.05 0 2.83L4 21.41c.39.39.9.59 1.41.59.51 0 1.02-.2 1.41-.59l7.78-7.78 2.81-2.81c.8-.78.8-2.07 0-2.86zM5.41 20L4 18.59l7.72-7.72 1.47 1.35L5.41 20z\"/>\n",
              "  </svg>\n",
              "      </button>\n",
              "      \n",
              "  <style>\n",
              "    .colab-df-container {\n",
              "      display:flex;\n",
              "      flex-wrap:wrap;\n",
              "      gap: 12px;\n",
              "    }\n",
              "\n",
              "    .colab-df-convert {\n",
              "      background-color: #E8F0FE;\n",
              "      border: none;\n",
              "      border-radius: 50%;\n",
              "      cursor: pointer;\n",
              "      display: none;\n",
              "      fill: #1967D2;\n",
              "      height: 32px;\n",
              "      padding: 0 0 0 0;\n",
              "      width: 32px;\n",
              "    }\n",
              "\n",
              "    .colab-df-convert:hover {\n",
              "      background-color: #E2EBFA;\n",
              "      box-shadow: 0px 1px 2px rgba(60, 64, 67, 0.3), 0px 1px 3px 1px rgba(60, 64, 67, 0.15);\n",
              "      fill: #174EA6;\n",
              "    }\n",
              "\n",
              "    [theme=dark] .colab-df-convert {\n",
              "      background-color: #3B4455;\n",
              "      fill: #D2E3FC;\n",
              "    }\n",
              "\n",
              "    [theme=dark] .colab-df-convert:hover {\n",
              "      background-color: #434B5C;\n",
              "      box-shadow: 0px 1px 3px 1px rgba(0, 0, 0, 0.15);\n",
              "      filter: drop-shadow(0px 1px 2px rgba(0, 0, 0, 0.3));\n",
              "      fill: #FFFFFF;\n",
              "    }\n",
              "  </style>\n",
              "\n",
              "      <script>\n",
              "        const buttonEl =\n",
              "          document.querySelector('#df-cad65eed-379e-4896-8984-21db7fc2e9a6 button.colab-df-convert');\n",
              "        buttonEl.style.display =\n",
              "          google.colab.kernel.accessAllowed ? 'block' : 'none';\n",
              "\n",
              "        async function convertToInteractive(key) {\n",
              "          const element = document.querySelector('#df-cad65eed-379e-4896-8984-21db7fc2e9a6');\n",
              "          const dataTable =\n",
              "            await google.colab.kernel.invokeFunction('convertToInteractive',\n",
              "                                                     [key], {});\n",
              "          if (!dataTable) return;\n",
              "\n",
              "          const docLinkHtml = 'Like what you see? Visit the ' +\n",
              "            '<a target=\"_blank\" href=https://colab.research.google.com/notebooks/data_table.ipynb>data table notebook</a>'\n",
              "            + ' to learn more about interactive tables.';\n",
              "          element.innerHTML = '';\n",
              "          dataTable['output_type'] = 'display_data';\n",
              "          await google.colab.output.renderOutput(dataTable, element);\n",
              "          const docLink = document.createElement('div');\n",
              "          docLink.innerHTML = docLinkHtml;\n",
              "          element.appendChild(docLink);\n",
              "        }\n",
              "      </script>\n",
              "    </div>\n",
              "  </div>\n",
              "  "
            ]
          },
          "metadata": {},
          "execution_count": 76
        }
      ]
    },
    {
      "cell_type": "code",
      "source": [
        "# Correlation Matrix\n",
        "\n",
        "plt.figure(figsize=(15,8))\n",
        "sns.heatmap(Numeric_Data.corr())"
      ],
      "metadata": {
        "colab": {
          "base_uri": "https://localhost:8080/",
          "height": 688
        },
        "id": "7hJRSoGb485P",
        "outputId": "132150bd-2c2c-40c2-b888-4041f73e9ccf"
      },
      "execution_count": 77,
      "outputs": [
        {
          "output_type": "execute_result",
          "data": {
            "text/plain": [
              "<matplotlib.axes._subplots.AxesSubplot at 0x7fbe453eb6d0>"
            ]
          },
          "metadata": {},
          "execution_count": 77
        },
        {
          "output_type": "display_data",
          "data": {
            "text/plain": [
              "<Figure size 1080x576 with 2 Axes>"
            ],
            "image/png": "[encoded data removed]"
          },
          "metadata": {
            "needs_background": "light"
          }
        }
      ]
    },
    {
      "cell_type": "markdown",
      "source": [
        "Here, we may assume that the only columns that have a significant impact on the target column \"route\" are \"animal_type\" and \"location\". Since \"scientific name\" and \"animal type\" are highly similar columns, we must choose one of them. The target column is unrelated to time stamps or average lifetime. Therefore, we must discard them."
      ],
      "metadata": {
        "id": "P8zYuONH7b39"
      }
    },
    {
      "cell_type": "markdown",
      "source": [
        "# Classification\n",
        "To categorize the routes used in Bangladesh for the trafficking of wild animals, multi-class classification approach has been used.\n"
      ],
      "metadata": {
        "id": "m0frRX3P6nDx"
      }
    },
    {
      "cell_type": "code",
      "source": [
        "# input features\n",
        "\n",
        "f = pd.get_dummies(data = wildlife_tracker, columns = ['animal_type', 'location'],drop_first=True) # applying categorical encoding\n",
        "features = f.drop(['scientific_name', 'average_lifespan' , 'request_time', 'request_udapte_time', 'route'], axis=1)\n",
        "features.head()"
      ],
      "metadata": {
        "colab": {
          "base_uri": "https://localhost:8080/",
          "height": 287
        },
        "id": "QksZLrxM6lQd",
        "outputId": "82cb65cc-37c1-48f7-d534-b640a5a33883"
      },
      "execution_count": 78,
      "outputs": [
        {
          "output_type": "execute_result",
          "data": {
            "text/plain": [
              "   animal_type_Dog  animal_type_Fox  animal_type_Hawk  animal_type_Lizard  \\\n",
              "0                1                0                 0                   0   \n",
              "1                0                0                 0                   0   \n",
              "2                0                0                 1                   0   \n",
              "3                0                0                 0                   0   \n",
              "4                0                1                 0                   0   \n",
              "\n",
              "   animal_type_Tiger  animal_type_White-tailed Eagle  location_Chittagong  \\\n",
              "0                  0                               0                    0   \n",
              "1                  0                               0                    1   \n",
              "2                  0                               0                    0   \n",
              "3                  0                               1                    0   \n",
              "4                  0                               0                    0   \n",
              "\n",
              "   location_Dhaka  location_Khulna  location_Sylhet  \n",
              "0               1                0                0  \n",
              "1               0                0                0  \n",
              "2               0                1                0  \n",
              "3               0                0                0  \n",
              "4               0                0                1  "
            ],
            "text/html": [
              "\n",
              "  <div id=\"df-e34f1b01-e84b-40f1-97b6-53602023c776\">\n",
              "    <div class=\"colab-df-container\">\n",
              "      <div>\n",
              "<style scoped>\n",
              "    .dataframe tbody tr th:only-of-type {\n",
              "        vertical-align: middle;\n",
              "    }\n",
              "\n",
              "    .dataframe tbody tr th {\n",
              "        vertical-align: top;\n",
              "    }\n",
              "\n",
              "    .dataframe thead th {\n",
              "        text-align: right;\n",
              "    }\n",
              "</style>\n",
              "<table border=\"1\" class=\"dataframe\">\n",
              "  <thead>\n",
              "    <tr style=\"text-align: right;\">\n",
              "      <th></th>\n",
              "      <th>animal_type_Dog</th>\n",
              "      <th>animal_type_Fox</th>\n",
              "      <th>animal_type_Hawk</th>\n",
              "      <th>animal_type_Lizard</th>\n",
              "      <th>animal_type_Tiger</th>\n",
              "      <th>animal_type_White-tailed Eagle</th>\n",
              "      <th>location_Chittagong</th>\n",
              "      <th>location_Dhaka</th>\n",
              "      <th>location_Khulna</th>\n",
              "      <th>location_Sylhet</th>\n",
              "    </tr>\n",
              "  </thead>\n",
              "  <tbody>\n",
              "    <tr>\n",
              "      <th>0</th>\n",
              "      <td>1</td>\n",
              "      <td>0</td>\n",
              "      <td>0</td>\n",
              "      <td>0</td>\n",
              "      <td>0</td>\n",
              "      <td>0</td>\n",
              "      <td>0</td>\n",
              "      <td>1</td>\n",
              "      <td>0</td>\n",
              "      <td>0</td>\n",
              "    </tr>\n",
              "    <tr>\n",
              "      <th>1</th>\n",
              "      <td>0</td>\n",
              "      <td>0</td>\n",
              "      <td>0</td>\n",
              "      <td>0</td>\n",
              "      <td>0</td>\n",
              "      <td>0</td>\n",
              "      <td>1</td>\n",
              "      <td>0</td>\n",
              "      <td>0</td>\n",
              "      <td>0</td>\n",
              "    </tr>\n",
              "    <tr>\n",
              "      <th>2</th>\n",
              "      <td>0</td>\n",
              "      <td>0</td>\n",
              "      <td>1</td>\n",
              "      <td>0</td>\n",
              "      <td>0</td>\n",
              "      <td>0</td>\n",
              "      <td>0</td>\n",
              "      <td>0</td>\n",
              "      <td>1</td>\n",
              "      <td>0</td>\n",
              "    </tr>\n",
              "    <tr>\n",
              "      <th>3</th>\n",
              "      <td>0</td>\n",
              "      <td>0</td>\n",
              "      <td>0</td>\n",
              "      <td>0</td>\n",
              "      <td>0</td>\n",
              "      <td>1</td>\n",
              "      <td>0</td>\n",
              "      <td>0</td>\n",
              "      <td>0</td>\n",
              "      <td>0</td>\n",
              "    </tr>\n",
              "    <tr>\n",
              "      <th>4</th>\n",
              "      <td>0</td>\n",
              "      <td>1</td>\n",
              "      <td>0</td>\n",
              "      <td>0</td>\n",
              "      <td>0</td>\n",
              "      <td>0</td>\n",
              "      <td>0</td>\n",
              "      <td>0</td>\n",
              "      <td>0</td>\n",
              "      <td>1</td>\n",
              "    </tr>\n",
              "  </tbody>\n",
              "</table>\n",
              "</div>\n",
              "      <button class=\"colab-df-convert\" onclick=\"convertToInteractive('df-e34f1b01-e84b-40f1-97b6-53602023c776')\"\n",
              "              title=\"Convert this dataframe to an interactive table.\"\n",
              "              style=\"display:none;\">\n",
              "        \n",
              "  <svg xmlns=\"http://www.w3.org/2000/svg\" height=\"24px\"viewBox=\"0 0 24 24\"\n",
              "       width=\"24px\">\n",
              "    <path d=\"M0 0h24v24H0V0z\" fill=\"none\"/>\n",
              "    <path d=\"M18.56 5.44l.94 2.06.94-2.06 2.06-.94-2.06-.94-.94-2.06-.94 2.06-2.06.94zm-11 1L8.5 8.5l.94-2.06 2.06-.94-2.06-.94L8.5 2.5l-.94 2.06-2.06.94zm10 10l.94 2.06.94-2.06 2.06-.94-2.06-.94-.94-2.06-.94 2.06-2.06.94z\"/><path d=\"M17.41 7.96l-1.37-1.37c-.4-.4-.92-.59-1.43-.59-.52 0-1.04.2-1.43.59L10.3 9.45l-7.72 7.72c-.78.78-.78 2.05 0 2.83L4 21.41c.39.39.9.59 1.41.59.51 0 1.02-.2 1.41-.59l7.78-7.78 2.81-2.81c.8-.78.8-2.07 0-2.86zM5.41 20L4 18.59l7.72-7.72 1.47 1.35L5.41 20z\"/>\n",
              "  </svg>\n",
              "      </button>\n",
              "      \n",
              "  <style>\n",
              "    .colab-df-container {\n",
              "      display:flex;\n",
              "      flex-wrap:wrap;\n",
              "      gap: 12px;\n",
              "    }\n",
              "\n",
              "    .colab-df-convert {\n",
              "      background-color: #E8F0FE;\n",
              "      border: none;\n",
              "      border-radius: 50%;\n",
              "      cursor: pointer;\n",
              "      display: none;\n",
              "      fill: #1967D2;\n",
              "      height: 32px;\n",
              "      padding: 0 0 0 0;\n",
              "      width: 32px;\n",
              "    }\n",
              "\n",
              "    .colab-df-convert:hover {\n",
              "      background-color: #E2EBFA;\n",
              "      box-shadow: 0px 1px 2px rgba(60, 64, 67, 0.3), 0px 1px 3px 1px rgba(60, 64, 67, 0.15);\n",
              "      fill: #174EA6;\n",
              "    }\n",
              "\n",
              "    [theme=dark] .colab-df-convert {\n",
              "      background-color: #3B4455;\n",
              "      fill: #D2E3FC;\n",
              "    }\n",
              "\n",
              "    [theme=dark] .colab-df-convert:hover {\n",
              "      background-color: #434B5C;\n",
              "      box-shadow: 0px 1px 3px 1px rgba(0, 0, 0, 0.15);\n",
              "      filter: drop-shadow(0px 1px 2px rgba(0, 0, 0, 0.3));\n",
              "      fill: #FFFFFF;\n",
              "    }\n",
              "  </style>\n",
              "\n",
              "      <script>\n",
              "        const buttonEl =\n",
              "          document.querySelector('#df-e34f1b01-e84b-40f1-97b6-53602023c776 button.colab-df-convert');\n",
              "        buttonEl.style.display =\n",
              "          google.colab.kernel.accessAllowed ? 'block' : 'none';\n",
              "\n",
              "        async function convertToInteractive(key) {\n",
              "          const element = document.querySelector('#df-e34f1b01-e84b-40f1-97b6-53602023c776');\n",
              "          const dataTable =\n",
              "            await google.colab.kernel.invokeFunction('convertToInteractive',\n",
              "                                                     [key], {});\n",
              "          if (!dataTable) return;\n",
              "\n",
              "          const docLinkHtml = 'Like what you see? Visit the ' +\n",
              "            '<a target=\"_blank\" href=https://colab.research.google.com/notebooks/data_table.ipynb>data table notebook</a>'\n",
              "            + ' to learn more about interactive tables.';\n",
              "          element.innerHTML = '';\n",
              "          dataTable['output_type'] = 'display_data';\n",
              "          await google.colab.output.renderOutput(dataTable, element);\n",
              "          const docLink = document.createElement('div');\n",
              "          docLink.innerHTML = docLinkHtml;\n",
              "          element.appendChild(docLink);\n",
              "        }\n",
              "      </script>\n",
              "    </div>\n",
              "  </div>\n",
              "  "
            ]
          },
          "metadata": {},
          "execution_count": 78
        }
      ]
    },
    {
      "cell_type": "code",
      "source": [
        "x = features # Collection of features\n",
        "y = wildlife_tracker['route'] # Target or the labels to predict"
      ],
      "metadata": {
        "id": "ShpCxFV17sMU"
      },
      "execution_count": 79,
      "outputs": []
    },
    {
      "cell_type": "code",
      "source": [
        "# Generating numerical target columns\n",
        "\n",
        "from sklearn.preprocessing import LabelEncoder \n",
        "le = LabelEncoder()\n",
        "y = le.fit_transform(y)"
      ],
      "metadata": {
        "id": "efRPQpMY75Z6"
      },
      "execution_count": 80,
      "outputs": []
    },
    {
      "cell_type": "code",
      "source": [
        "# Train & Test dataset split\n",
        "\n",
        "from sklearn.model_selection import train_test_split\n",
        "from sklearn.model_selection import cross_val_score\n",
        "from sklearn import metrics\n",
        "\n",
        "x_train, x_test, y_train, y_test = train_test_split(x,y,random_state =7)"
      ],
      "metadata": {
        "id": "RaqcJ34Y79s9"
      },
      "execution_count": 81,
      "outputs": []
    },
    {
      "cell_type": "code",
      "source": [
        "# Principal Component Analysis\n",
        "\n",
        "from sklearn.decomposition import PCA\n",
        "\n",
        "pca = PCA()\n",
        "x_train = pca.fit_transform(x_train)\n",
        "x_test = pca.transform(x_test)"
      ],
      "metadata": {
        "id": "3UDE8ss-8CVz"
      },
      "execution_count": 82,
      "outputs": []
    },
    {
      "cell_type": "markdown",
      "source": [
        "## Pipeline"
      ],
      "metadata": {
        "id": "Rwy7wbSUAT7o"
      }
    },
    {
      "cell_type": "code",
      "source": [
        "# KNeighbors Classifier\n",
        "\n",
        "from sklearn.neighbors import KNeighborsClassifier\n",
        "from sklearn.metrics import classification_report\n",
        "knnclassifier = KNeighborsClassifier(n_neighbors=5)\n",
        "knnclassifier.fit(x_train,y_train)\n",
        "y_pred = knnclassifier.predict(x_test)\n",
        "metrics.plot_confusion_matrix(knnclassifier,x_test, y_test)\n",
        "plt.show()\n",
        "print(classification_report(y_test, y_pred))"
      ],
      "metadata": {
        "colab": {
          "base_uri": "https://localhost:8080/",
          "height": 650
        },
        "id": "aADtyVAdAPpB",
        "outputId": "1a6a9a75-051c-4ebe-f604-bbf11125aaec"
      },
      "execution_count": 83,
      "outputs": [
        {
          "output_type": "stream",
          "name": "stderr",
          "text": [
            "/usr/local/lib/python3.7/dist-packages/sklearn/utils/deprecation.py:87: FutureWarning: Function plot_confusion_matrix is deprecated; Function `plot_confusion_matrix` is deprecated in 1.0 and will be removed in 1.2. Use one of the class methods: ConfusionMatrixDisplay.from_predictions or ConfusionMatrixDisplay.from_estimator.\n",
            "  warnings.warn(msg, category=FutureWarning)\n"
          ]
        },
        {
          "output_type": "display_data",
          "data": {
            "text/plain": [
              "<Figure size 432x288 with 2 Axes>"
            ],
            "image/png": "[encoded data removed]"
          },
          "metadata": {
            "needs_background": "light"
          }
        },
        {
          "output_type": "stream",
          "name": "stdout",
          "text": [
            "              precision    recall  f1-score   support\n",
            "\n",
            "           0       0.42      0.33      0.37        24\n",
            "           1       0.27      0.38      0.32        16\n",
            "           2       0.43      0.25      0.32        12\n",
            "           3       0.27      0.50      0.35        12\n",
            "           4       0.00      0.00      0.00         6\n",
            "\n",
            "    accuracy                           0.33        70\n",
            "   macro avg       0.28      0.29      0.27        70\n",
            "weighted avg       0.33      0.33      0.31        70\n",
            "\n"
          ]
        },
        {
          "output_type": "stream",
          "name": "stderr",
          "text": [
            "/usr/local/lib/python3.7/dist-packages/sklearn/metrics/_classification.py:1318: UndefinedMetricWarning: Precision and F-score are ill-defined and being set to 0.0 in labels with no predicted samples. Use `zero_division` parameter to control this behavior.\n",
            "  _warn_prf(average, modifier, msg_start, len(result))\n",
            "/usr/local/lib/python3.7/dist-packages/sklearn/metrics/_classification.py:1318: UndefinedMetricWarning: Precision and F-score are ill-defined and being set to 0.0 in labels with no predicted samples. Use `zero_division` parameter to control this behavior.\n",
            "  _warn_prf(average, modifier, msg_start, len(result))\n",
            "/usr/local/lib/python3.7/dist-packages/sklearn/metrics/_classification.py:1318: UndefinedMetricWarning: Precision and F-score are ill-defined and being set to 0.0 in labels with no predicted samples. Use `zero_division` parameter to control this behavior.\n",
            "  _warn_prf(average, modifier, msg_start, len(result))\n"
          ]
        }
      ]
    },
    {
      "cell_type": "code",
      "source": [
        "# Support Vector OneVsRest Classifier\n",
        "\n",
        "from sklearn.svm import SVC\n",
        "from sklearn.multiclass import OneVsRestClassifier\n",
        "SVC = SVC()\n",
        "SVC_O_VS_R = OneVsRestClassifier(SVC)\n",
        "SVC_O_VS_R.fit(x_train,y_train)\n",
        "y_pred = SVC_O_VS_R.predict(x_test)\n",
        "metrics.plot_confusion_matrix(SVC_O_VS_R,x_test, y_test)\n",
        "plt.show()\n",
        "print(classification_report(y_test, y_pred))"
      ],
      "metadata": {
        "colab": {
          "base_uri": "https://localhost:8080/",
          "height": 650
        },
        "id": "bNKVxF1mAnIm",
        "outputId": "5ea5ae2d-e7a1-4927-92d0-a8cff35f1f18"
      },
      "execution_count": 84,
      "outputs": [
        {
          "output_type": "stream",
          "name": "stderr",
          "text": [
            "/usr/local/lib/python3.7/dist-packages/sklearn/utils/deprecation.py:87: FutureWarning: Function plot_confusion_matrix is deprecated; Function `plot_confusion_matrix` is deprecated in 1.0 and will be removed in 1.2. Use one of the class methods: ConfusionMatrixDisplay.from_predictions or ConfusionMatrixDisplay.from_estimator.\n",
            "  warnings.warn(msg, category=FutureWarning)\n"
          ]
        },
        {
          "output_type": "display_data",
          "data": {
            "text/plain": [
              "<Figure size 432x288 with 2 Axes>"
            ],
            "image/png": "[encoded data removed]"
          },
          "metadata": {
            "needs_background": "light"
          }
        },
        {
          "output_type": "stream",
          "name": "stdout",
          "text": [
            "              precision    recall  f1-score   support\n",
            "\n",
            "           0       0.50      0.08      0.14        24\n",
            "           1       0.25      0.38      0.30        16\n",
            "           2       0.27      0.25      0.26        12\n",
            "           3       0.23      0.58      0.33        12\n",
            "           4       0.00      0.00      0.00         6\n",
            "\n",
            "    accuracy                           0.26        70\n",
            "   macro avg       0.25      0.26      0.21        70\n",
            "weighted avg       0.31      0.26      0.22        70\n",
            "\n"
          ]
        },
        {
          "output_type": "stream",
          "name": "stderr",
          "text": [
            "/usr/local/lib/python3.7/dist-packages/sklearn/metrics/_classification.py:1318: UndefinedMetricWarning: Precision and F-score are ill-defined and being set to 0.0 in labels with no predicted samples. Use `zero_division` parameter to control this behavior.\n",
            "  _warn_prf(average, modifier, msg_start, len(result))\n",
            "/usr/local/lib/python3.7/dist-packages/sklearn/metrics/_classification.py:1318: UndefinedMetricWarning: Precision and F-score are ill-defined and being set to 0.0 in labels with no predicted samples. Use `zero_division` parameter to control this behavior.\n",
            "  _warn_prf(average, modifier, msg_start, len(result))\n",
            "/usr/local/lib/python3.7/dist-packages/sklearn/metrics/_classification.py:1318: UndefinedMetricWarning: Precision and F-score are ill-defined and being set to 0.0 in labels with no predicted samples. Use `zero_division` parameter to control this behavior.\n",
            "  _warn_prf(average, modifier, msg_start, len(result))\n"
          ]
        }
      ]
    },
    {
      "cell_type": "code",
      "source": [
        "# Support Vector OneVsOne Classifier\n",
        "\n",
        "from sklearn.multiclass import OneVsOneClassifier\n",
        "SVC_O_VS_O = OneVsOneClassifier(SVC)\n",
        "SVC_O_VS_O.fit(x_train,y_train)\n",
        "y_pred = SVC_O_VS_O.predict(x_test)\n",
        "metrics.plot_confusion_matrix(SVC_O_VS_O,x_test, y_test)\n",
        "plt.show()\n",
        "print(classification_report(y_test, y_pred))"
      ],
      "metadata": {
        "colab": {
          "base_uri": "https://localhost:8080/",
          "height": 650
        },
        "id": "9iYjqYdfAtYL",
        "outputId": "a1ce3642-f9fa-485b-8e8f-a66a11b1abd8"
      },
      "execution_count": 85,
      "outputs": [
        {
          "output_type": "stream",
          "name": "stderr",
          "text": [
            "/usr/local/lib/python3.7/dist-packages/sklearn/utils/deprecation.py:87: FutureWarning: Function plot_confusion_matrix is deprecated; Function `plot_confusion_matrix` is deprecated in 1.0 and will be removed in 1.2. Use one of the class methods: ConfusionMatrixDisplay.from_predictions or ConfusionMatrixDisplay.from_estimator.\n",
            "  warnings.warn(msg, category=FutureWarning)\n"
          ]
        },
        {
          "output_type": "display_data",
          "data": {
            "text/plain": [
              "<Figure size 432x288 with 2 Axes>"
            ],
            "image/png": "[encoded data removed]"
          },
          "metadata": {
            "needs_background": "light"
          }
        },
        {
          "output_type": "stream",
          "name": "stdout",
          "text": [
            "              precision    recall  f1-score   support\n",
            "\n",
            "           0       0.14      0.04      0.06        24\n",
            "           1       0.21      0.44      0.28        16\n",
            "           2       0.50      0.08      0.14        12\n",
            "           3       0.26      0.58      0.36        12\n",
            "           4       0.00      0.00      0.00         6\n",
            "\n",
            "    accuracy                           0.23        70\n",
            "   macro avg       0.22      0.23      0.17        70\n",
            "weighted avg       0.23      0.23      0.17        70\n",
            "\n"
          ]
        },
        {
          "output_type": "stream",
          "name": "stderr",
          "text": [
            "/usr/local/lib/python3.7/dist-packages/sklearn/metrics/_classification.py:1318: UndefinedMetricWarning: Precision and F-score are ill-defined and being set to 0.0 in labels with no predicted samples. Use `zero_division` parameter to control this behavior.\n",
            "  _warn_prf(average, modifier, msg_start, len(result))\n",
            "/usr/local/lib/python3.7/dist-packages/sklearn/metrics/_classification.py:1318: UndefinedMetricWarning: Precision and F-score are ill-defined and being set to 0.0 in labels with no predicted samples. Use `zero_division` parameter to control this behavior.\n",
            "  _warn_prf(average, modifier, msg_start, len(result))\n",
            "/usr/local/lib/python3.7/dist-packages/sklearn/metrics/_classification.py:1318: UndefinedMetricWarning: Precision and F-score are ill-defined and being set to 0.0 in labels with no predicted samples. Use `zero_division` parameter to control this behavior.\n",
            "  _warn_prf(average, modifier, msg_start, len(result))\n"
          ]
        }
      ]
    },
    {
      "cell_type": "code",
      "source": [
        "# Decision Tree Classifier\n",
        "\n",
        "from sklearn.tree import DecisionTreeClassifier\n",
        "DT = DecisionTreeClassifier(random_state=7)\n",
        "DT.fit(x_train,y_train)\n",
        "y_pred = DT.predict(x_test)\n",
        "metrics.plot_confusion_matrix(DT,x_test, y_test)\n",
        "plt.show()\n",
        "print(classification_report(y_test, y_pred))"
      ],
      "metadata": {
        "colab": {
          "base_uri": "https://localhost:8080/",
          "height": 646
        },
        "id": "RiYZz6NWA0Ia",
        "outputId": "491a67a5-64b5-40d7-a736-d3182f5cddcf"
      },
      "execution_count": 86,
      "outputs": [
        {
          "output_type": "stream",
          "name": "stderr",
          "text": [
            "/usr/local/lib/python3.7/dist-packages/sklearn/utils/deprecation.py:87: FutureWarning: Function plot_confusion_matrix is deprecated; Function `plot_confusion_matrix` is deprecated in 1.0 and will be removed in 1.2. Use one of the class methods: ConfusionMatrixDisplay.from_predictions or ConfusionMatrixDisplay.from_estimator.\n",
            "  warnings.warn(msg, category=FutureWarning)\n"
          ]
        },
        {
          "output_type": "display_data",
          "data": {
            "text/plain": [
              "<Figure size 432x288 with 2 Axes>"
            ],
            "image/png": "[encoded data removed]"
          },
          "metadata": {
            "needs_background": "light"
          }
        },
        {
          "output_type": "stream",
          "name": "stderr",
          "text": [
            "/usr/local/lib/python3.7/dist-packages/sklearn/metrics/_classification.py:1318: UndefinedMetricWarning: Precision and F-score are ill-defined and being set to 0.0 in labels with no predicted samples. Use `zero_division` parameter to control this behavior.\n",
            "  _warn_prf(average, modifier, msg_start, len(result))\n",
            "/usr/local/lib/python3.7/dist-packages/sklearn/metrics/_classification.py:1318: UndefinedMetricWarning: Precision and F-score are ill-defined and being set to 0.0 in labels with no predicted samples. Use `zero_division` parameter to control this behavior.\n",
            "  _warn_prf(average, modifier, msg_start, len(result))\n"
          ]
        },
        {
          "output_type": "stream",
          "name": "stdout",
          "text": [
            "              precision    recall  f1-score   support\n",
            "\n",
            "           0       0.35      0.25      0.29        24\n",
            "           1       0.24      0.44      0.31        16\n",
            "           2       0.33      0.08      0.13        12\n",
            "           3       0.29      0.50      0.36        12\n",
            "           4       0.00      0.00      0.00         6\n",
            "\n",
            "    accuracy                           0.29        70\n",
            "   macro avg       0.24      0.25      0.22        70\n",
            "weighted avg       0.28      0.29      0.26        70\n",
            "\n"
          ]
        },
        {
          "output_type": "stream",
          "name": "stderr",
          "text": [
            "/usr/local/lib/python3.7/dist-packages/sklearn/metrics/_classification.py:1318: UndefinedMetricWarning: Precision and F-score are ill-defined and being set to 0.0 in labels with no predicted samples. Use `zero_division` parameter to control this behavior.\n",
            "  _warn_prf(average, modifier, msg_start, len(result))\n"
          ]
        }
      ]
    },
    {
      "cell_type": "code",
      "source": [
        "# Random Forest Classifier\n",
        "\n",
        "from sklearn.ensemble import RandomForestClassifier\n",
        "RF = RandomForestClassifier()\n",
        "RF.fit(x_train,y_train)\n",
        "y_pred = RF.predict(x_test)\n",
        "metrics.plot_confusion_matrix(RF,x_test, y_test)\n",
        "plt.show()\n",
        "print(classification_report(y_test, y_pred))"
      ],
      "metadata": {
        "colab": {
          "base_uri": "https://localhost:8080/",
          "height": 542
        },
        "id": "1-8KdIx-A6tW",
        "outputId": "1fe7c431-3d1a-4b95-893a-cfb364328140"
      },
      "execution_count": 87,
      "outputs": [
        {
          "output_type": "stream",
          "name": "stderr",
          "text": [
            "/usr/local/lib/python3.7/dist-packages/sklearn/utils/deprecation.py:87: FutureWarning: Function plot_confusion_matrix is deprecated; Function `plot_confusion_matrix` is deprecated in 1.0 and will be removed in 1.2. Use one of the class methods: ConfusionMatrixDisplay.from_predictions or ConfusionMatrixDisplay.from_estimator.\n",
            "  warnings.warn(msg, category=FutureWarning)\n"
          ]
        },
        {
          "output_type": "display_data",
          "data": {
            "text/plain": [
              "<Figure size 432x288 with 2 Axes>"
            ],
            "image/png": "[encoded data removed]"
          },
          "metadata": {
            "needs_background": "light"
          }
        },
        {
          "output_type": "stream",
          "name": "stdout",
          "text": [
            "              precision    recall  f1-score   support\n",
            "\n",
            "           0       0.17      0.04      0.07        24\n",
            "           1       0.28      0.62      0.38        16\n",
            "           2       0.33      0.08      0.13        12\n",
            "           3       0.26      0.50      0.34        12\n",
            "           4       0.50      0.17      0.25         6\n",
            "\n",
            "    accuracy                           0.27        70\n",
            "   macro avg       0.31      0.28      0.24        70\n",
            "weighted avg       0.27      0.27      0.21        70\n",
            "\n"
          ]
        }
      ]
    },
    {
      "cell_type": "code",
      "source": [
        ""
      ],
      "metadata": {
        "id": "E_Iv4gf1368E"
      },
      "execution_count": 87,
      "outputs": []
    },
    {
      "cell_type": "code",
      "source": [
        "# Gradient Boosting Classifier\n",
        "\n",
        "from sklearn.ensemble import GradientBoostingClassifier\n",
        "GB = GradientBoostingClassifier()\n",
        "GB.fit(x_train,y_train)\n",
        "y_pred = GB.predict(x_test)\n",
        "metrics.plot_confusion_matrix(GB,x_test, y_test)\n",
        "plt.show()\n",
        "print(classification_report(y_test, y_pred))"
      ],
      "metadata": {
        "colab": {
          "base_uri": "https://localhost:8080/",
          "height": 546
        },
        "id": "Qlvgp7jyBBzG",
        "outputId": "cceec0f8-b34c-4932-8c1d-a87719ec6919"
      },
      "execution_count": 88,
      "outputs": [
        {
          "output_type": "stream",
          "name": "stderr",
          "text": [
            "/usr/local/lib/python3.7/dist-packages/sklearn/utils/deprecation.py:87: FutureWarning: Function plot_confusion_matrix is deprecated; Function `plot_confusion_matrix` is deprecated in 1.0 and will be removed in 1.2. Use one of the class methods: ConfusionMatrixDisplay.from_predictions or ConfusionMatrixDisplay.from_estimator.\n",
            "  warnings.warn(msg, category=FutureWarning)\n"
          ]
        },
        {
          "output_type": "display_data",
          "data": {
            "text/plain": [
              "<Figure size 432x288 with 2 Axes>"
            ],
            "image/png": "[encoded data removed]"
          },
          "metadata": {
            "needs_background": "light"
          }
        },
        {
          "output_type": "stream",
          "name": "stdout",
          "text": [
            "              precision    recall  f1-score   support\n",
            "\n",
            "           0       0.33      0.12      0.18        24\n",
            "           1       0.24      0.50      0.33        16\n",
            "           2       0.33      0.08      0.13        12\n",
            "           3       0.26      0.50      0.34        12\n",
            "           4       0.50      0.17      0.25         6\n",
            "\n",
            "    accuracy                           0.27        70\n",
            "   macro avg       0.33      0.28      0.25        70\n",
            "weighted avg       0.31      0.27      0.24        70\n",
            "\n"
          ]
        }
      ]
    },
    {
      "cell_type": "code",
      "source": [
        "# Gaussian Naive Bayes Classifier\n",
        "\n",
        "from sklearn.naive_bayes import GaussianNB\n",
        "GNB = GaussianNB()\n",
        "GNB.fit(x_train,y_train)\n",
        "y_pred = GNB.predict(x_test)\n",
        "metrics.plot_confusion_matrix(GNB,x_test, y_test)\n",
        "plt.show()\n",
        "print(classification_report(y_test, y_pred))"
      ],
      "metadata": {
        "colab": {
          "base_uri": "https://localhost:8080/",
          "height": 650
        },
        "id": "GX_4kZSVBGGG",
        "outputId": "c90b2fea-3a78-4b7e-8212-a34dc097ca15"
      },
      "execution_count": 89,
      "outputs": [
        {
          "output_type": "stream",
          "name": "stderr",
          "text": [
            "/usr/local/lib/python3.7/dist-packages/sklearn/utils/deprecation.py:87: FutureWarning: Function plot_confusion_matrix is deprecated; Function `plot_confusion_matrix` is deprecated in 1.0 and will be removed in 1.2. Use one of the class methods: ConfusionMatrixDisplay.from_predictions or ConfusionMatrixDisplay.from_estimator.\n",
            "  warnings.warn(msg, category=FutureWarning)\n"
          ]
        },
        {
          "output_type": "display_data",
          "data": {
            "text/plain": [
              "<Figure size 432x288 with 2 Axes>"
            ],
            "image/png": "[encoded data removed]"
          },
          "metadata": {
            "needs_background": "light"
          }
        },
        {
          "output_type": "stream",
          "name": "stdout",
          "text": [
            "              precision    recall  f1-score   support\n",
            "\n",
            "           0       0.39      0.38      0.38        24\n",
            "           1       0.36      0.31      0.33        16\n",
            "           2       0.30      0.25      0.27        12\n",
            "           3       0.22      0.42      0.29        12\n",
            "           4       0.00      0.00      0.00         6\n",
            "\n",
            "    accuracy                           0.31        70\n",
            "   macro avg       0.25      0.27      0.25        70\n",
            "weighted avg       0.30      0.31      0.30        70\n",
            "\n"
          ]
        },
        {
          "output_type": "stream",
          "name": "stderr",
          "text": [
            "/usr/local/lib/python3.7/dist-packages/sklearn/metrics/_classification.py:1318: UndefinedMetricWarning: Precision and F-score are ill-defined and being set to 0.0 in labels with no predicted samples. Use `zero_division` parameter to control this behavior.\n",
            "  _warn_prf(average, modifier, msg_start, len(result))\n",
            "/usr/local/lib/python3.7/dist-packages/sklearn/metrics/_classification.py:1318: UndefinedMetricWarning: Precision and F-score are ill-defined and being set to 0.0 in labels with no predicted samples. Use `zero_division` parameter to control this behavior.\n",
            "  _warn_prf(average, modifier, msg_start, len(result))\n",
            "/usr/local/lib/python3.7/dist-packages/sklearn/metrics/_classification.py:1318: UndefinedMetricWarning: Precision and F-score are ill-defined and being set to 0.0 in labels with no predicted samples. Use `zero_division` parameter to control this behavior.\n",
            "  _warn_prf(average, modifier, msg_start, len(result))\n"
          ]
        }
      ]
    },
    {
      "cell_type": "code",
      "source": [
        "# Multi-layer Perceptron Classifier\n",
        "\n",
        "from sklearn.neural_network import MLPClassifier\n",
        "MLP = MLPClassifier(random_state=0, max_iter=300)\n",
        "MLP.fit(x_train,y_train)\n",
        "y_pred = MLP.predict(x_test)\n",
        "metrics.plot_confusion_matrix(MLP,x_test, y_test)\n",
        "plt.show()\n",
        "print(classification_report(y_test, y_pred))"
      ],
      "metadata": {
        "colab": {
          "base_uri": "https://localhost:8080/",
          "height": 681
        },
        "id": "HkTp3aGxBLRq",
        "outputId": "61d0bb3d-40dd-4db7-ccae-f66450d4444e"
      },
      "execution_count": 90,
      "outputs": [
        {
          "output_type": "stream",
          "name": "stderr",
          "text": [
            "/usr/local/lib/python3.7/dist-packages/sklearn/neural_network/_multilayer_perceptron.py:696: ConvergenceWarning: Stochastic Optimizer: Maximum iterations (300) reached and the optimization hasn't converged yet.\n",
            "  ConvergenceWarning,\n",
            "/usr/local/lib/python3.7/dist-packages/sklearn/utils/deprecation.py:87: FutureWarning: Function plot_confusion_matrix is deprecated; Function `plot_confusion_matrix` is deprecated in 1.0 and will be removed in 1.2. Use one of the class methods: ConfusionMatrixDisplay.from_predictions or ConfusionMatrixDisplay.from_estimator.\n",
            "  warnings.warn(msg, category=FutureWarning)\n"
          ]
        },
        {
          "output_type": "display_data",
          "data": {
            "text/plain": [
              "<Figure size 432x288 with 2 Axes>"
            ],
            "image/png": "[encoded data removed]"
          },
          "metadata": {
            "needs_background": "light"
          }
        },
        {
          "output_type": "stream",
          "name": "stdout",
          "text": [
            "              precision    recall  f1-score   support\n",
            "\n",
            "           0       0.29      0.17      0.21        24\n",
            "           1       0.23      0.44      0.30        16\n",
            "           2       0.50      0.08      0.14        12\n",
            "           3       0.30      0.58      0.40        12\n",
            "           4       0.00      0.00      0.00         6\n",
            "\n",
            "    accuracy                           0.27        70\n",
            "   macro avg       0.26      0.25      0.21        70\n",
            "weighted avg       0.29      0.27      0.23        70\n",
            "\n"
          ]
        },
        {
          "output_type": "stream",
          "name": "stderr",
          "text": [
            "/usr/local/lib/python3.7/dist-packages/sklearn/metrics/_classification.py:1318: UndefinedMetricWarning: Precision and F-score are ill-defined and being set to 0.0 in labels with no predicted samples. Use `zero_division` parameter to control this behavior.\n",
            "  _warn_prf(average, modifier, msg_start, len(result))\n",
            "/usr/local/lib/python3.7/dist-packages/sklearn/metrics/_classification.py:1318: UndefinedMetricWarning: Precision and F-score are ill-defined and being set to 0.0 in labels with no predicted samples. Use `zero_division` parameter to control this behavior.\n",
            "  _warn_prf(average, modifier, msg_start, len(result))\n",
            "/usr/local/lib/python3.7/dist-packages/sklearn/metrics/_classification.py:1318: UndefinedMetricWarning: Precision and F-score are ill-defined and being set to 0.0 in labels with no predicted samples. Use `zero_division` parameter to control this behavior.\n",
            "  _warn_prf(average, modifier, msg_start, len(result))\n"
          ]
        }
      ]
    },
    {
      "cell_type": "markdown",
      "source": [
        "## Evaluating & Comparing Models"
      ],
      "metadata": {
        "id": "Z8bfK-ZdBUr5"
      }
    },
    {
      "cell_type": "code",
      "source": [
        "# Classifiers\n",
        "\n",
        "names = [\"knnclassifier\", \"SVC_O_VS_R\", \"SVC_O_VS_O\", \"DT\", \"RF\", \"GB\", \"GNB\", \"MLP\"]\n",
        "\n",
        "classifiers = [\n",
        "    KNeighborsClassifier(n_neighbors=5),\n",
        "    OneVsRestClassifier(SVC),\n",
        "    OneVsOneClassifier(SVC),\n",
        "    DecisionTreeClassifier(random_state=7),\n",
        "    RandomForestClassifier(),\n",
        "    GradientBoostingClassifier(),\n",
        "    GaussianNB(),\n",
        "    MLPClassifier(random_state=0, max_iter=300)]        "
      ],
      "metadata": {
        "id": "tcX067M_BVSV"
      },
      "execution_count": 91,
      "outputs": []
    },
    {
      "cell_type": "code",
      "source": [
        "from sklearn.metrics import accuracy_score\n",
        "\n",
        "scores = [] # Load accuracy score\n",
        "\n",
        "for name, clf in zip(names, classifiers):\n",
        "    clf.fit(x_train, y_train)\n",
        "    y_pred = clf.predict(x_test)\n",
        "    validation_score = metrics.accuracy_score(y_test, y_pred)\n",
        "    scores.append(validation_score)"
      ],
      "metadata": {
        "colab": {
          "base_uri": "https://localhost:8080/"
        },
        "id": "SrjkDgotBeRX",
        "outputId": "994b8bd6-63b5-4826-edfe-78b7607ecd0c"
      },
      "execution_count": 92,
      "outputs": [
        {
          "output_type": "stream",
          "name": "stderr",
          "text": [
            "/usr/local/lib/python3.7/dist-packages/sklearn/neural_network/_multilayer_perceptron.py:696: ConvergenceWarning: Stochastic Optimizer: Maximum iterations (300) reached and the optimization hasn't converged yet.\n",
            "  ConvergenceWarning,\n"
          ]
        }
      ]
    },
    {
      "cell_type": "code",
      "source": [
        "# Load data into data frame\n",
        "\n",
        "df = pd.DataFrame()\n",
        "df['name'] = names\n",
        "df['validation_score'] = scores"
      ],
      "metadata": {
        "id": "LTh4iwkYBiRs"
      },
      "execution_count": 93,
      "outputs": []
    },
    {
      "cell_type": "code",
      "source": [
        "# Visualizing accuracy score\n",
        "\n",
        "cm = sns.light_palette(\"green\", as_cmap=True)\n",
        "s = df.style.background_gradient(cmap=cm)\n",
        "s"
      ],
      "metadata": {
        "colab": {
          "base_uri": "https://localhost:8080/",
          "height": 300
        },
        "id": "rK1AMg0xBklS",
        "outputId": "8033e73d-1978-40fd-f356-408d199092c2"
      },
      "execution_count": 94,
      "outputs": [
        {
          "output_type": "execute_result",
          "data": {
            "text/plain": [
              "<pandas.io.formats.style.Styler at 0x7fbe4544e450>"
            ],
            "text/html": [
              "<style type=\"text/css\">\n",
              "#T_4a9de_row0_col1 {\n",
              "  background-color: #008000;\n",
              "  color: #f1f1f1;\n",
              "}\n",
              "#T_4a9de_row1_col1 {\n",
              "  background-color: #a7d2a7;\n",
              "  color: #000000;\n",
              "}\n",
              "#T_4a9de_row2_col1 {\n",
              "  background-color: #ebf3eb;\n",
              "  color: #000000;\n",
              "}\n",
              "#T_4a9de_row3_col1, #T_4a9de_row4_col1 {\n",
              "  background-color: #64b164;\n",
              "  color: #f1f1f1;\n",
              "}\n",
              "#T_4a9de_row5_col1, #T_4a9de_row7_col1 {\n",
              "  background-color: #86c286;\n",
              "  color: #000000;\n",
              "}\n",
              "#T_4a9de_row6_col1 {\n",
              "  background-color: #219021;\n",
              "  color: #f1f1f1;\n",
              "}\n",
              "</style>\n",
              "<table id=\"T_4a9de_\" class=\"dataframe\">\n",
              "  <thead>\n",
              "    <tr>\n",
              "      <th class=\"blank level0\" >&nbsp;</th>\n",
              "      <th class=\"col_heading level0 col0\" >name</th>\n",
              "      <th class=\"col_heading level0 col1\" >validation_score</th>\n",
              "    </tr>\n",
              "  </thead>\n",
              "  <tbody>\n",
              "    <tr>\n",
              "      <th id=\"T_4a9de_level0_row0\" class=\"row_heading level0 row0\" >0</th>\n",
              "      <td id=\"T_4a9de_row0_col0\" class=\"data row0 col0\" >knnclassifier</td>\n",
              "      <td id=\"T_4a9de_row0_col1\" class=\"data row0 col1\" >0.328571</td>\n",
              "    </tr>\n",
              "    <tr>\n",
              "      <th id=\"T_4a9de_level0_row1\" class=\"row_heading level0 row1\" >1</th>\n",
              "      <td id=\"T_4a9de_row1_col0\" class=\"data row1 col0\" >SVC_O_VS_R</td>\n",
              "      <td id=\"T_4a9de_row1_col1\" class=\"data row1 col1\" >0.257143</td>\n",
              "    </tr>\n",
              "    <tr>\n",
              "      <th id=\"T_4a9de_level0_row2\" class=\"row_heading level0 row2\" >2</th>\n",
              "      <td id=\"T_4a9de_row2_col0\" class=\"data row2 col0\" >SVC_O_VS_O</td>\n",
              "      <td id=\"T_4a9de_row2_col1\" class=\"data row2 col1\" >0.228571</td>\n",
              "    </tr>\n",
              "    <tr>\n",
              "      <th id=\"T_4a9de_level0_row3\" class=\"row_heading level0 row3\" >3</th>\n",
              "      <td id=\"T_4a9de_row3_col0\" class=\"data row3 col0\" >DT</td>\n",
              "      <td id=\"T_4a9de_row3_col1\" class=\"data row3 col1\" >0.285714</td>\n",
              "    </tr>\n",
              "    <tr>\n",
              "      <th id=\"T_4a9de_level0_row4\" class=\"row_heading level0 row4\" >4</th>\n",
              "      <td id=\"T_4a9de_row4_col0\" class=\"data row4 col0\" >RF</td>\n",
              "      <td id=\"T_4a9de_row4_col1\" class=\"data row4 col1\" >0.285714</td>\n",
              "    </tr>\n",
              "    <tr>\n",
              "      <th id=\"T_4a9de_level0_row5\" class=\"row_heading level0 row5\" >5</th>\n",
              "      <td id=\"T_4a9de_row5_col0\" class=\"data row5 col0\" >GB</td>\n",
              "      <td id=\"T_4a9de_row5_col1\" class=\"data row5 col1\" >0.271429</td>\n",
              "    </tr>\n",
              "    <tr>\n",
              "      <th id=\"T_4a9de_level0_row6\" class=\"row_heading level0 row6\" >6</th>\n",
              "      <td id=\"T_4a9de_row6_col0\" class=\"data row6 col0\" >GNB</td>\n",
              "      <td id=\"T_4a9de_row6_col1\" class=\"data row6 col1\" >0.314286</td>\n",
              "    </tr>\n",
              "    <tr>\n",
              "      <th id=\"T_4a9de_level0_row7\" class=\"row_heading level0 row7\" >7</th>\n",
              "      <td id=\"T_4a9de_row7_col0\" class=\"data row7 col0\" >MLP</td>\n",
              "      <td id=\"T_4a9de_row7_col1\" class=\"data row7 col1\" >0.271429</td>\n",
              "    </tr>\n",
              "  </tbody>\n",
              "</table>\n"
            ]
          },
          "metadata": {},
          "execution_count": 94
        }
      ]
    },
    {
      "cell_type": "markdown",
      "source": [
        "Since we just utilized a short synthetic dataset, we should expect to have poor accuracy. The results of the classifiers will be impressive when we apply a real dataset to this problem. The hyperparameter of the classifier that performs the best can also be tuned at that time."
      ],
      "metadata": {
        "id": "1wYomYtjHmFp"
      }
    }
  ]
}